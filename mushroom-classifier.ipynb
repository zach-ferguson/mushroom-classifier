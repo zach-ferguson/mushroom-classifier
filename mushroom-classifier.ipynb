{
 "cells": [
  {
   "cell_type": "code",
   "execution_count": null,
   "metadata": {},
   "outputs": [],
   "source": [
    "#update if neccessary\n",
    "import os\n",
    "iskaggle = os.environ.get('KAGGLE_KERNAL_RUN_TYPE', '')\n",
    "\n",
    "if iskaggle:\n",
    "  !pip install -Uqq fastai"
   ]
  },
  {
   "cell_type": "code",
   "execution_count": null,
   "metadata": {},
   "outputs": [],
   "source": [
    "#define the image fetching func\n",
    "\n",
    "from fastcore.all import *\n",
    "import time\n",
    "import json\n",
    "\n",
    "def search_images(term, max_images=100):\n",
    "  url = 'https://duckduckgo.com/'\n",
    "  res = urlread(url,data={'q':term})\n",
    "  time.sleep(2)\n",
    "  searchObj = re.search(r'vqd=([\\d-]+)\\&', res)\n",
    "  requestUrl = url + 'i.js'\n",
    "  params = dict(l='us-en', o='json', q=term, vqd=searchObj.group(1), f=',,,', p='1', v7exp='a')    \n",
    "  headers = dict( referer='https://duckduckgo.com/' )\n",
    "  urls,data = set(),{'next':1}\n",
    "  while len(urls)<max_images and 'next' in data:\n",
    "      res = urlread(requestUrl, data=params, headers=headers)\n",
    "      data = json.loads(res) if res else {}\n",
    "      urls.update(L(data['results']).itemgot('image'))\n",
    "      requestUrl = url + data['next']\n",
    "      time.sleep(4)\n",
    "  return L(urls)[:max_images]"
   ]
  },
  {
   "cell_type": "code",
   "execution_count": null,
   "metadata": {},
   "outputs": [],
   "source": [
    "#fetch images of mushrooms\n",
    "from fastdownload import download_url\n",
    "mushroom_types = 'blue oyster mushroom', 'shiitake mushroom', 'lion\\'s mane mushroom', 'amanita muscaria mushroom'\n",
    "path = Path('mushrooms')\n",
    "\n",
    "for o in mushroom_types:\n",
    "  dest = (path/o)\n",
    "  dest.mkdir(exist_ok=True, parents=True)\n",
    "  download_images(dest, urls=search_images(f'{o} photo'))\n",
    "  time.sleep(5)\n",
    "  resize_images(path/o, max_size=400, dest=path/o)"
   ]
  },
  {
   "cell_type": "code",
   "execution_count": null,
   "metadata": {},
   "outputs": [],
   "source": [
    "#unlink the bad images\n",
    "failed = verify_images(get_image_files(path))\n",
    "failed.map(Path.unlink)\n",
    "len(failed)"
   ]
  },
  {
   "cell_type": "code",
   "execution_count": null,
   "metadata": {},
   "outputs": [],
   "source": [
    "#define the datablock\n",
    "mushrooms = DataBlock(\n",
    "  blocks=(ImageBlock, CategoryBlock),\n",
    "  get_items=get_image_files,\n",
    "  splitter=RandomSplitter(valid_pct=0.2, seed=42),\n",
    "  get_y=parent_label,\n",
    "  item_tfms=Resize(128)\n",
    ")"
   ]
  },
  {
   "cell_type": "code",
   "execution_count": null,
   "metadata": {},
   "outputs": [],
   "source": [
    "#augment some images, display a few\n",
    "mushrooms = mushrooms.new(\n",
    "  item_tfms=Resize(128, min_scale=0.3),\n",
    "  batch_tfms=aug_transforms()\n",
    ")\n",
    "dls = mushrooms.dataloaders(path)\n",
    "dls.train.show_batch(max_n=4, nrows=1, unique=True)"
   ]
  },
  {
   "cell_type": "code",
   "execution_count": null,
   "metadata": {},
   "outputs": [],
   "source": [
    "#train the model\n",
    "learn = vision_learner(dls, resnet18, metrics=error_rate)\n",
    "learn.fine_tune(4)"
   ]
  },
  {
   "cell_type": "code",
   "execution_count": null,
   "metadata": {},
   "outputs": [],
   "source": [
    "#display the confusion matrix\n",
    "interp = ClassificationInterpretation.from_learner(learn)\n",
    "interp.plot_confusion_matrix()"
   ]
  },
  {
   "cell_type": "code",
   "execution_count": null,
   "metadata": {},
   "outputs": [],
   "source": [
    "#hide_output\n",
    "cleaner = ImageClassifierCleaner(learn)\n",
    "cleaner"
   ]
  },
  {
   "cell_type": "code",
   "execution_count": null,
   "metadata": {},
   "outputs": [],
   "source": [
    "#unlink any bad data we found\n",
    "for i in cleaner.delete(): cleaner.fns[i].unlink()"
   ]
  },
  {
   "cell_type": "code",
   "execution_count": null,
   "metadata": {},
   "outputs": [],
   "source": [
    "#move any mis-categorizations\n",
    "for i,cat in cleaner.change(): shutil.move(str(cleaner.fns[i]), path/cat)"
   ]
  },
  {
   "cell_type": "code",
   "execution_count": null,
   "metadata": {},
   "outputs": [],
   "source": [
    "#fetch some new test data to maunally verify against the model\n",
    "test_urls = search_images(mushroom_types[0], max_images=1)\n",
    "oyst_dest = 'blue-oyster-mushroom-example.jpg'\n",
    "download_url(urls[0], oyst_dest, show_progress=False)\n",
    "\n",
    "test_im = Image.open(oyst_dest)\n",
    "test_im.to_thumb(256,256)"
   ]
  },
  {
   "cell_type": "code",
   "execution_count": null,
   "metadata": {},
   "outputs": [],
   "source": [
    "def print_prediction(img):\n",
    "  pred,_,probs = learn_inf.predict(img)\n",
    "  print(f\"This is a {pred}, probability: {probs[0]:.4f}\")\n",
    "\n",
    "print_prediction(test_im)"
   ]
  }
 ],
 "metadata": {
  "language_info": {
   "name": "python"
  }
 },
 "nbformat": 4,
 "nbformat_minor": 2
}
