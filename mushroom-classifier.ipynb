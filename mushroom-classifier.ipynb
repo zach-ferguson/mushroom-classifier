{
 "cells": [
  {
   "cell_type": "code",
   "execution_count": null,
   "metadata": {},
   "outputs": [],
   "source": [
    "import os\n",
    "iskaggle = os.environ.get('KAGGLE_KERNAL_RUN_TYPE', '')\n",
    "\n",
    "if iskaggle:\n",
    "  !pip install -Uqq fastai"
   ]
  },
  {
   "cell_type": "code",
   "execution_count": null,
   "metadata": {},
   "outputs": [],
   "source": [
    "from fastcore.all import *\n",
    "import time\n",
    "import json\n",
    "\n",
    "def search_images(term, max_images=100):\n",
    "  url = 'https://duckduckgo.com/'\n",
    "  res = urlread(url,data={'q':term})\n",
    "  time.sleep(2)\n",
    "  searchObj = re.search(r'vqd=([\\d-]+)\\&', res)\n",
    "  requestUrl = url + 'i.js'\n",
    "  params = dict(l='us-en', o='json', q=term, vqd=searchObj.group(1), f=',,,', p='1', v7exp='a')    \n",
    "  headers = dict( referer='https://duckduckgo.com/' )\n",
    "  urls,data = set(),{'next':1}\n",
    "  while len(urls)<max_images and 'next' in data:\n",
    "      res = urlread(requestUrl, data=params, headers=headers)\n",
    "      data = json.loads(res) if res else {}\n",
    "      urls.update(L(data['results']).itemgot('image'))\n",
    "      requestUrl = url + data['next']\n",
    "      time.sleep(4)\n",
    "  return L(urls)[:max_images]"
   ]
  },
  {
   "cell_type": "code",
   "execution_count": null,
   "metadata": {},
   "outputs": [],
   "source": [
    "urls = search_images('blue oyster mushroom', max_images=1)\n",
    "urls[0]"
   ]
  },
  {
   "cell_type": "code",
   "execution_count": null,
   "metadata": {},
   "outputs": [],
   "source": [
    "from fastdownload import download_url\n",
    "mushroom_types = 'blue oyster mushroom', 'shiitake mushroom', 'lion\\'s mane mushroom', 'amanita muscaria mushroom'\n",
    "path = Path('mushrooms')\n",
    "\n",
    "for o in mushroom_types:\n",
    "  dest = (path/o)\n",
    "  dest.mkdir(exist_ok=True, parents=True)\n",
    "  download_images(dest, urls=search_images(f'{o} photo'))\n",
    "  time.sleep(5)\n",
    "  resize_images(path/o, max_size=400, dest=path/o)"
   ]
  },
  {
   "cell_type": "code",
   "execution_count": null,
   "metadata": {},
   "outputs": [],
   "source": [
    "failed = verify_images(get_image_files(path))\n",
    "failed.map(Path.unlink)\n",
    "len(failed)"
   ]
  }
 ],
 "metadata": {
  "language_info": {
   "name": "python"
  }
 },
 "nbformat": 4,
 "nbformat_minor": 2
}
